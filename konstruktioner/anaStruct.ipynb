{
 "cells": [
  {
   "cell_type": "code",
   "execution_count": 3,
   "id": "8f2e9257-1b0c-4666-b845-969b59d91778",
   "metadata": {},
   "outputs": [],
   "source": [
    "# Første del af et python script bruges til at importere bibliotekerne, som skal bruges til resten af scriptet.\n",
    "\n",
    "from anastruct import SystemElements\n",
    "import handcalcs.render\n",
    "import forallpeople as si  # Importerer forallpeople biblioteket som si, fordi vi anvender det til at regne med enheder.\n",
    "\n",
    "\n",
    "ss = SystemElements()"
   ]
  },
  {
   "cell_type": "markdown",
   "id": "4b0596bf-b375-46f8-9e48-5c464c630f08",
   "metadata": {},
   "source": [
    "## Beregning af simpel understøttet bjælke med forskellige laster\n",
    "\n",
    "### Situation\n",
    "\n",
    "Vi skal vælte en del af en hovedskillevæg, og sætte en ståloverligger op. \n",
    "\n",
    "Der er allerede en dør i hovedskillevæggen, og vi har derfor en del af hovedskillevæggen, med en reduceret last, da der ikke er noget murværk til stede.\n",
    "Hovedskillevæggen er 3m lang, og har en 900mm dør placeret på ovenliggende etager, 1m inde på bjælken. Her regner vi med reduceret last.\n",
    "\n",
    "*Note: der vil være et større tryk lige i døråbningen, i dette tilfælde antager vi at den trykspredes nok til at der ikke sker en lastforøgelse, men ellers kan denne punktlast også påføres.*\n",
    "\n",
    "Vi får følgende system:"
   ]
  },
  {
   "cell_type": "code",
   "execution_count": 5,
   "id": "7beaf522-727b-408f-a3ab-08e6ff7644a2",
   "metadata": {},
   "outputs": [
    {
     "data": {
      "text/latex": [
       "\\[\n",
       "\\begin{aligned}\n",
       "\\mathrm{sec}_{1} &= 1.000\\ \\mathrm{m} \\; \n",
       " &\\mathrm{sec}_{2} &= 900.000\\ \\mathrm{mm} \\; \n",
       " &\\mathrm{sec}_{3} &= 1.100\\ \\mathrm{m} \\; \n",
       "\\\\[10pt]\n",
       "\\end{aligned}\n",
       "\\]"
      ],
      "text/plain": [
       "<IPython.core.display.Latex object>"
      ]
     },
     "metadata": {},
     "output_type": "display_data"
    }
   ],
   "source": [
    "%%render params\n",
    "sec_1 = 1 *si.m\n",
    "sec_2 = 0.9 *si.m\n",
    "sec_3 = 1.1 *si.m\n"
   ]
  }
 ],
 "metadata": {
  "kernelspec": {
   "display_name": "Python 3 (ipykernel)",
   "language": "python",
   "name": "python3"
  },
  "language_info": {
   "codemirror_mode": {
    "name": "ipython",
    "version": 3
   },
   "file_extension": ".py",
   "mimetype": "text/x-python",
   "name": "python",
   "nbconvert_exporter": "python",
   "pygments_lexer": "ipython3",
   "version": "3.12.9"
  }
 },
 "nbformat": 4,
 "nbformat_minor": 5
}
